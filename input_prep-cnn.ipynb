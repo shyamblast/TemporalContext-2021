{
 "cells": [
  {
   "cell_type": "code",
   "execution_count": null,
   "metadata": {},
   "outputs": [],
   "source": [
    "import os\n",
    "import numpy as np\n",
    "from temporalcontext import settings\n",
    "from temporalcontext.functions import read_selmap, prepare_cnn_inputs"
   ]
  },
  {
   "cell_type": "markdown",
   "metadata": {},
   "source": [
    "## Prepare input data for training CNN models by extracting audio segments corresponding to annotations and saving as spectrograms."
   ]
  },
  {
   "cell_type": "code",
   "execution_count": null,
   "metadata": {},
   "outputs": [],
   "source": [
    "# The root directory under which audio & corresponding annotation files are\n",
    "# available\n",
    "audio_root = os.path.join(settings.raw_data_root, settings.raw_audio_dir)\n",
    "seltab_root = os.path.join(settings.raw_data_root, settings.raw_annot_dir)\n",
    "\n",
    "selmap = read_selmap(os.path.join(settings.raw_data_root, 'selmap.csv'))\n",
    "\n",
    "# Loop on unique segment_advance from experiments\n",
    "for seg_adv in list(set([ex['segment_advance'] for ex in settings.lstm_experiments])):\n",
    "    \n",
    "    print('Segment advance: {:.2f}:'.format(seg_adv))\n",
    "    \n",
    "    output_root = os.path.join(settings.project_root,\n",
    "                               settings.segments_dir,\n",
    "                               'seg_adv_{:.2f}'.format(seg_adv))\n",
    "    \n",
    "    total_pos_count = 0\n",
    "    total_neg_count = 0\n",
    "\n",
    "    # Process each file\n",
    "    for au_file, pos_annot_file, neg_annot_file in selmap:\n",
    "        \n",
    "        pos_count, neg_count = prepare_cnn_inputs(\n",
    "            os.path.join(audio_root, au_file),\n",
    "            os.path.join(seltab_root, pos_annot_file),\n",
    "            os.path.join(seltab_root, neg_annot_file),\n",
    "            settings.segment_length, seg_adv,\n",
    "            os.path.join(output_root, settings.class_dirs[0], au_file + '.npz'),\n",
    "            os.path.join(output_root, settings.class_dirs[1], au_file + '.npz'),\n",
    "            settings.specgram_params, settings.bandwidth_extents\n",
    "        )\n",
    "        \n",
    "        total_pos_count += pos_count\n",
    "        total_neg_count += neg_count\n",
    "        \n",
    "    print('  Positive segments: {:5d}'.format(total_pos_count))\n",
    "    print('  Negative segments: {:5d}'.format(total_neg_count))\n"
   ]
  }
 ],
 "metadata": {
  "kernelspec": {
   "display_name": "Python 3",
   "language": "python",
   "name": "python3"
  },
  "language_info": {
   "codemirror_mode": {
    "name": "ipython",
    "version": 3
   },
   "file_extension": ".py",
   "mimetype": "text/x-python",
   "name": "python",
   "nbconvert_exporter": "python",
   "pygments_lexer": "ipython3",
   "version": "3.6.9"
  }
 },
 "nbformat": 4,
 "nbformat_minor": 4
}
